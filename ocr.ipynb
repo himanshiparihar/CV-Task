{
 "cells": [
  {
   "cell_type": "code",
   "execution_count": 1,
   "id": "acquired-vancouver",
   "metadata": {},
   "outputs": [],
   "source": [
    "from imutils import contours\n",
    "import numpy as np\n",
    "import argparse\n",
    "import imutils\n",
    "import cv2\n",
    "import pytesseract"
   ]
  },
  {
   "cell_type": "code",
   "execution_count": 2,
   "id": "assisted-upset",
   "metadata": {},
   "outputs": [],
   "source": [
    "def gray(img):\n",
    "    \n",
    "    img = cv2.cvtColor(img, cv2.COLOR_BGR2GRAY)\n",
    "    cv2.imwrite(r\"./preprocess/img_gray.png\",img)\n",
    "    return img\n",
    "\n",
    "# blur\n",
    "def blur(img) :\n",
    "    img_blur = cv2.GaussianBlur(img,(5,5),0)\n",
    "    cv2.imwrite(r\"./preprocess/img_blur.png\",img)    \n",
    "    return img_blur\n",
    "\n",
    "# threshold\n",
    "def threshold(img):\n",
    "    #pixels with value below 100 are turned black (0) and those with higher value are turned white (255)\n",
    "    img = cv2.threshold(img, 100, 255, cv2.THRESH_OTSU | cv2.THRESH_BINARY)[1]    \n",
    "    cv2.imwrite(r\"./preprocess/img_threshold.png\",img)\n",
    "    return img"
   ]
  },
  {
   "cell_type": "code",
   "execution_count": 3,
   "id": "direct-chosen",
   "metadata": {},
   "outputs": [],
   "source": [
    "im=cv2.imread(\"3648476-1.jpg\",cv2.IMREAD_COLOR)\n",
    "im_gray = gray(im)\n",
    "im_blur = blur(im_gray)\n",
    "im_thresh = threshold(im_blur)\n",
    "contours, _ = cv2.findContours(im_thresh, cv2.RETR_EXTERNAL, cv2.CHAIN_APPROX_NONE)\n",
    "# cv2.imshow('thr1.png',im_thresh)\n",
    "# cv2.waitKey(0)"
   ]
  },
  {
   "cell_type": "code",
   "execution_count": 16,
   "id": "manufactured-image",
   "metadata": {},
   "outputs": [],
   "source": [
    "import re\n",
    "def contours_text(orig,im, contours):\n",
    "    l=[]\n",
    "    for cnt in contours: \n",
    "        x, y, w, h = cv2.boundingRect(cnt) \n",
    "\n",
    "        # Drawing a rectangle on copied image \n",
    "        rect = cv2.rectangle(orig, (x, y), (x + w, y + h), (0, 255, 255), 2) \n",
    "        \n",
    "#         cv2.imshow('cnt',rect)\n",
    "#         cv2.waitKey()\n",
    "\n",
    "        # Cropping the text block for giving input to OCR \n",
    "        cropped = orig[y:y + h, x:x + w] \n",
    "\n",
    "        # Apply OCR on the cropped image \n",
    "        config = ('-l eng --oem 1 --psm 3')\n",
    "        text = pytesseract.image_to_string(cropped, config=config) \n",
    "        if len(text):\n",
    "            l.append(text)\n",
    "            \n",
    "    return l\n",
    "        "
   ]
  },
  {
   "cell_type": "code",
   "execution_count": 17,
   "id": "overall-solomon",
   "metadata": {
    "scrolled": true
   },
   "outputs": [],
   "source": [
    "l=contours_text(im, im,contours)"
   ]
  },
  {
   "cell_type": "code",
   "execution_count": 40,
   "id": "decimal-investment",
   "metadata": {},
   "outputs": [
    {
     "name": "stdout",
     "output_type": "stream",
     "text": [
      "['BXAPC1000L'] ['13/09/1996']\n"
     ]
    }
   ],
   "source": [
    "s=''\n",
    "s=s+max(l)\n",
    "# print(s)\n",
    "y = re.findall(\"\\d\\d.\\d\\d.\\d\\d\\d\\d\", s)\n",
    "x = re.findall(\"[A-Z][A-Z][A-Z][A-Z][A-Z]\\d\\d\\d\\d.\",s)\n",
    "print(x,y)"
   ]
  },
  {
   "cell_type": "code",
   "execution_count": null,
   "id": "pursuant-freedom",
   "metadata": {},
   "outputs": [],
   "source": []
  }
 ],
 "metadata": {
  "kernelspec": {
   "display_name": "Python 3",
   "language": "python",
   "name": "python3"
  },
  "language_info": {
   "codemirror_mode": {
    "name": "ipython",
    "version": 3
   },
   "file_extension": ".py",
   "mimetype": "text/x-python",
   "name": "python",
   "nbconvert_exporter": "python",
   "pygments_lexer": "ipython3",
   "version": "3.6.9"
  }
 },
 "nbformat": 4,
 "nbformat_minor": 5
}
